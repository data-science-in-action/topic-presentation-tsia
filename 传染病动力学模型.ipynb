{
 "cells": [
  {
   "cell_type": "markdown",
   "metadata": {},
   "source": [
    "# SI模型"
   ]
  },
  {
   "cell_type": "code",
   "execution_count": 87,
   "metadata": {},
   "outputs": [],
   "source": [
    "import scipy.integrate\n",
    "import numpy as np\n",
    "import matplotlib.pyplot as plt\n",
    "import scipy.integrate as spi"
   ]
  },
  {
   "cell_type": "code",
   "execution_count": 88,
   "metadata": {},
   "outputs": [],
   "source": [
    "plt.rcParams['font.sans-serif'] = [\"SimHei\"]\n",
    "plt.rcParams['font.family'] = 'sans-serif'\n",
    "plt.rcParams['axes.unicode_minus'] = False"
   ]
  },
  {
   "cell_type": "code",
   "execution_count": 89,
   "metadata": {},
   "outputs": [],
   "source": [
    "# N为人群总数\n",
    "N = 11000000\n",
    "# β为传染率系数\n",
    "beta = 0.25\n",
    "# gamma为恢复率系数\n",
    "gamma = 0\n",
    "# I_0为感染者的初始人数\n",
    "I_0 = 1\n",
    "# S_0为易感者的初始人数\n",
    "S_0 = N - I_0\n",
    "# T为传播时间\n",
    "T = 150"
   ]
  },
  {
   "cell_type": "code",
   "execution_count": 90,
   "metadata": {},
   "outputs": [],
   "source": [
    "# INI为初始状态下的数组\n",
    "INI = (S_0,I_0)"
   ]
  },
  {
   "cell_type": "code",
   "execution_count": 91,
   "metadata": {},
   "outputs": [],
   "source": [
    "def funcSI(inivalue,_):\n",
    "    Y = np.zeros(2)\n",
    "    X = inivalue\n",
    "    # 易感个体变化\n",
    "    Y[0] = - (beta * X[0] * X[1]) / N + gamma * X[1]\n",
    "    # 感染个体变化\n",
    "    Y[1] = (beta * X[0] * X[1]) / N - gamma * X[1]\n",
    "    return Y"
   ]
  },
  {
   "cell_type": "code",
   "execution_count": 92,
   "metadata": {},
   "outputs": [],
   "source": [
    "T_range = np.arange(0,T + 1)"
   ]
  },
  {
   "cell_type": "code",
   "execution_count": 93,
   "metadata": {},
   "outputs": [],
   "source": [
    "RES = spi.odeint(funcSI,INI,T_range)"
   ]
  },
  {
   "cell_type": "code",
   "execution_count": 94,
   "metadata": {},
   "outputs": [
    {
     "data": {
      "image/png": "[encoded data removed]",
      "text/plain": [
       "<Figure size 432x288 with 1 Axes>"
      ]
     },
     "metadata": {
      "needs_background": "light"
     },
     "output_type": "display_data"
    }
   ],
   "source": [
    "plt.plot(RES[:,0],color = 'blue',label = '易感者')\n",
    "plt.plot(RES[:,1],color = 'green',label = '感染者')\n",
    "plt.title('SI 模型')\n",
    "plt.legend()\n",
    "plt.xlabel('Day')\n",
    "plt.ylabel('Number')\n",
    "plt.show()"
   ]
  },
  {
   "cell_type": "markdown",
   "metadata": {},
   "source": [
    "# SIS模型"
   ]
  },
  {
   "cell_type": "code",
   "execution_count": 95,
   "metadata": {},
   "outputs": [],
   "source": [
    "# N为人群总数\n",
    "N = 10000\n",
    "# β为传染率系数\n",
    "beta = 0.25\n",
    "# gamma为恢复率系数\n",
    "gamma = 0.05\n",
    "# I_0为感染者的初始人数\n",
    "I_0 = 1\n",
    "# S_0为易感者的初始人数\n",
    "S_0 = N - I_0\n",
    "# T为传播时间\n",
    "T = 150"
   ]
  },
  {
   "cell_type": "code",
   "execution_count": 96,
   "metadata": {},
   "outputs": [],
   "source": [
    "INI = (S_0,I_0)"
   ]
  },
  {
   "cell_type": "code",
   "execution_count": 97,
   "metadata": {},
   "outputs": [],
   "source": [
    "def funcSIS(inivalue,_):\n",
    " Y = np.zeros(2)\n",
    " X = inivalue\n",
    " # 易感个体变化\n",
    " Y[0] = - (beta * X[0]) / N * X[1] + gamma * X[1]\n",
    " # 感染个体变化\n",
    " Y[1] = (beta * X[0] * X[1]) / N - gamma * X[1]\n",
    " return Y"
   ]
  },
  {
   "cell_type": "code",
   "execution_count": 98,
   "metadata": {},
   "outputs": [],
   "source": [
    "T_range = np.arange(0,T + 1)"
   ]
  },
  {
   "cell_type": "code",
   "execution_count": 99,
   "metadata": {},
   "outputs": [],
   "source": [
    "RES = spi.odeint(funcSIS,INI,T_range)"
   ]
  },
  {
   "cell_type": "code",
   "execution_count": 12,
   "metadata": {},
   "outputs": [
    {
     "data": {
      "image/png": "[encoded data removed]",
      "text/plain": [
       "<Figure size 432x288 with 1 Axes>"
      ]
     },
     "metadata": {
      "needs_background": "light"
     },
     "output_type": "display_data"
    }
   ],
   "source": [
    "plt.plot(RES[:,0],color = 'blue',label = '易感者',marker = '.')\n",
    "plt.plot(RES[:,1],color = 'green',label = '感染者',marker = '.')\n",
    "plt.title('SIS 模型')\n",
    "plt.legend()\n",
    "plt.xlabel('Day')\n",
    "plt.ylabel('Number')\n",
    "plt.show()"
   ]
  },
  {
   "cell_type": "markdown",
   "metadata": {},
   "source": [
    "# SIR模型"
   ]
  },
  {
   "cell_type": "code",
   "execution_count": 100,
   "metadata": {},
   "outputs": [],
   "source": [
    "def SIR_model(y, t, beta, gamma):\n",
    "    S, I, R = y\n",
    "    dS_dt = -beta * S * I\n",
    "    dI_dt = beta * S * I - gamma * I\n",
    "    dR_dt = gamma * I\n",
    "    return ([dS_dt, dI_dt, dR_dt])"
   ]
  },
  {
   "cell_type": "code",
   "execution_count": 101,
   "metadata": {},
   "outputs": [],
   "source": [
    "# initialization\n",
    "S0 = 0.9 # ratio\n",
    "I0 = 0.1 # ratio\n",
    "R0 = 0.0 # ratio\n",
    "beta = 0.35\n",
    "gamma = 0.1"
   ]
  },
  {
   "cell_type": "code",
   "execution_count": 102,
   "metadata": {},
   "outputs": [],
   "source": [
    "# time vector\n",
    "t = np.linspace(0, 100, 10000)\n",
    "# result\n",
    "res = scipy.integrate.odeint(SIR_model, [S0, I0, R0], t, args=(beta, gamma))\n",
    "res = np.array(res)"
   ]
  },
  {
   "cell_type": "code",
   "execution_count": 54,
   "metadata": {},
   "outputs": [
    {
     "data": {
      "image/png": "[encoded data removed]",
      "text/plain": [
       "<Figure size 432x288 with 1 Axes>"
      ]
     },
     "metadata": {
      "needs_background": "light"
     },
     "output_type": "display_data"
    }
   ],
   "source": [
    "# plot\n",
    "plt.figure(figsize=[6, 4])\n",
    "plt.plot(t, res[:, 0], label='易感者')\n",
    "plt.plot(t, res[:, 1], label='感染者')\n",
    "plt.plot(t, res[:, 2], label='恢复者')\n",
    "plt.legend()\n",
    "plt.grid()\n",
    "plt.xlabel('time')\n",
    "plt.ylabel('proportions')\n",
    "plt.title('SIR 模型')\n",
    "plt.show()"
   ]
  },
  {
   "cell_type": "markdown",
   "metadata": {},
   "source": [
    "# SEIR模型"
   ]
  },
  {
   "cell_type": "code",
   "execution_count": 37,
   "metadata": {},
   "outputs": [],
   "source": [
    "def calc(T):\n",
    "    for i in range(0,len(T)-1):\n",
    "        S.append(S[i]-r*b*S[i]*I[i]/N)\n",
    "        E.append(E[i]+r*b*S[i]*I[i]/N-a*E[i])\n",
    "        I.append(I[i]+a*E[i]-y*I[i])\n",
    "        R.append(R[i]+y*I[i])"
   ]
  },
  {
   "cell_type": "code",
   "execution_count": 38,
   "metadata": {},
   "outputs": [],
   "source": [
    "def plot(T,E,I,S,R):\n",
    "    plt.title('SEIR-病毒传播时间曲线图')\n",
    "    plt.plot(T,S,color='r',label=\"易感者\")\n",
    "    plt.plot(T,E,color='k',label=\"潜伏者\")\n",
    "    plt.plot(T,I,color='b',label=\"传染者\")\n",
    "    plt.plot(T,R,color='g',label=\"康复者\")\n",
    "    plt.xlabel(\"时间（天）\")\n",
    "    plt.ylabel(\"人数\")\n",
    "    plt.grid(False)\n",
    "    plt.legend()\n",
    "    plt.show()"
   ]
  },
  {
   "cell_type": "code",
   "execution_count": 41,
   "metadata": {},
   "outputs": [
    {
     "data": {
      "image/png": "[encoded data removed]",
      "text/plain": [
       "<Figure size 432x288 with 1 Axes>"
      ]
     },
     "metadata": {
      "needs_background": "light"
     },
     "output_type": "display_data"
    }
   ],
   "source": [
    "if __name__ == \"__main__\":\n",
    "    N = 10000   #总人数\n",
    "    E = [0]   #潜伏者的初始人数\n",
    "    I = [1]   #感染者的初始人数\n",
    "    S = [N-I[0]]   #易感者的初始人数\n",
    "    R = [0]    #治愈者的初始人数\n",
    "    r = 20  #传染者接触人数\n",
    "    #传染率系数\n",
    "    b = 0.03    #传染概率\n",
    "    a = 0.1     #潜伏者患病概率\n",
    "    y = 0.2     #治愈率\n",
    "    T = range(0,160)  #传播时间\n",
    "    calc(T)\n",
    "    plot(T,E,I,S,R)"
   ]
  },
  {
   "cell_type": "markdown",
   "metadata": {},
   "source": [
    "# SEITR模型"
   ]
  },
  {
   "cell_type": "code",
   "execution_count": 103,
   "metadata": {},
   "outputs": [],
   "source": [
    "# N为人群总数\n",
    "N =11000000\n",
    "# β为传染率系数\n",
    "beta = 0.18\n",
    "# gamma为恢复率系数\n",
    "gamma = 0\n",
    "#δ为受到治疗系数\n",
    "δ = 0.14\n",
    "# Te为疾病潜伏期\n",
    "Te = 5\n",
    "# I_0为感染未住院的初始人数\n",
    "I_0 = 0\n",
    "# E_0为潜伏者的初始人数\n",
    "E_0 = 1\n",
    "# R_0为治愈者的初始人数\n",
    "R_0 = 0\n",
    "#T_0为治疗中的初始人数\n",
    "T_0 = 0\n",
    "# S_0为易感者的初始人数\n",
    "S_0 = N - I_0 - E_0 - R_0 - T_0\n",
    "# T为传播时间\n",
    "T = 45"
   ]
  },
  {
   "cell_type": "code",
   "execution_count": 118,
   "metadata": {},
   "outputs": [],
   "source": [
    "# INI为初始状态下的数组\n",
    "INI = (S_0,E_0,I_0,R_0,T_0)"
   ]
  },
  {
   "cell_type": "code",
   "execution_count": 119,
   "metadata": {},
   "outputs": [],
   "source": [
    "def funcSEIR(inivalue,_):\n",
    " Y = np.zeros(5)\n",
    " X = inivalue\n",
    " # 易感个体变化\n",
    " Y[0] = - (beta * X[0] *( X[2]+X[1])) / N\n",
    " # 潜伏个体变化\n",
    " Y[1] = (beta * X[0] *( X[2]+X[1])) / N - X[1] / Te\n",
    " # 感染未住院\n",
    " Y[2] = X[1] / Te - δ * X[2]\n",
    " # 治愈个体变化\n",
    " Y[3] = gamma * X[4]\n",
    " #治疗中个体变化\n",
    " Y[4] = δ* X[2] - gamma* X[4]\n",
    " return Y"
   ]
  },
  {
   "cell_type": "code",
   "execution_count": 124,
   "metadata": {},
   "outputs": [],
   "source": [
    "T_range = np.arange(0,T + 1)"
   ]
  },
  {
   "cell_type": "code",
   "execution_count": 125,
   "metadata": {},
   "outputs": [],
   "source": [
    "RES = spi.odeint(funcSEIR,INI,T_range)"
   ]
  },
  {
   "cell_type": "code",
   "execution_count": 126,
   "metadata": {},
   "outputs": [
    {
     "data": {
      "image/png": "[encoded data removed]",
      "text/plain": [
       "<Figure size 432x288 with 1 Axes>"
      ]
     },
     "metadata": {
      "needs_background": "light"
     },
     "output_type": "display_data"
    }
   ],
   "source": [
    "plt.figure(figsize=[6, 4])\n",
    "#plt.plot(RES[:,0],label = '易感者')\n",
    "plt.plot(RES[:,1],label = '暴露者')\n",
    "plt.plot(RES[:,2],label = '传染者')\n",
    "plt.plot(RES[:,3],label = '康复者')\n",
    "plt.plot(RES[:,4],label = '治疗者')\n",
    "\n",
    "plt.title('SEITR 模型')\n",
    "plt.legend()\n",
    "plt.grid()\n",
    "plt.xlabel('Day')\n",
    "plt.ylabel('Number')\n",
    "plt.show()"
   ]
  },
  {
   "cell_type": "markdown",
   "metadata": {},
   "source": [
    "# 第一阶段"
   ]
  },
  {
   "cell_type": "code",
   "execution_count": 111,
   "metadata": {},
   "outputs": [],
   "source": [
    "# N为人群总数\n",
    "N =11000000\n",
    "# β为传染率系数\n",
    "beta = 0.18\n",
    "# gamma为恢复率系数\n",
    "gamma = 0\n",
    "#δ为受到治疗系数\n",
    "δ = 0.14\n",
    "# Te为疾病潜伏期\n",
    "Te = 5\n",
    "# I_0为感染未住院的初始人数\n",
    "I_0 = 0\n",
    "# E_0为潜伏者的初始人数\n",
    "E_0 = 1\n",
    "# R_0为治愈者的初始人数\n",
    "R_0 = 0\n",
    "#T_0为治疗中的初始人数\n",
    "T_0 = 0\n",
    "# S_0为易感者的初始人数\n",
    "S_0 = N - I_0 - E_0 - R_0 - T_0\n",
    "# T为传播时间\n",
    "T = 45"
   ]
  },
  {
   "cell_type": "markdown",
   "metadata": {},
   "source": [
    "# 第二阶段"
   ]
  },
  {
   "cell_type": "code",
   "execution_count": 112,
   "metadata": {},
   "outputs": [],
   "source": [
    "# N为人群总数\n",
    "N =11000000\n",
    "# β为传染率系数\n",
    "beta = 0.22\n",
    "# gamma为恢复率系数\n",
    "gamma = 0.01\n",
    "#δ为受到治疗系数\n",
    "δ = 0.14\n",
    "# Te为疾病潜伏期\n",
    "Te = 5\n",
    "# I_0为感染未住院的初始人数\n",
    "I_0 = 102\n",
    "# E_0为潜伏者的初始人数\n",
    "E_0 = 132\n",
    "# R_0为治愈者的初始人数\n",
    "R_0 = 0\n",
    "#T_0为治疗中的初始人数\n",
    "T_0 = 122\n",
    "# S_0为易感者的初始人数\n",
    "S_0 = N - I_0 - E_0 - R_0 - T_0\n",
    "# T为传播时间\n",
    "T = 45"
   ]
  },
  {
   "cell_type": "markdown",
   "metadata": {},
   "source": [
    "# 第三阶段"
   ]
  },
  {
   "cell_type": "code",
   "execution_count": 117,
   "metadata": {},
   "outputs": [],
   "source": [
    "# N为人群总数\n",
    "N =11000000\n",
    "# β为传染率系数\n",
    "beta = 0.176\n",
    "# gamma为恢复率系数\n",
    "gamma = 0.02\n",
    "#δ为受到治疗系数\n",
    "δ = 0.83\n",
    "# Te为疾病潜伏期\n",
    "Te = 5\n",
    "# I_0为感染未住院的初始人数\n",
    "I_0 = 3921\n",
    "# E_0为潜伏者的初始人数\n",
    "E_0 = 6004\n",
    "# R_0为治愈者的初始人数\n",
    "R_0 = 204\n",
    "#T_0为治疗中的初始人数\n",
    "T_0 = 3271\n",
    "# S_0为易感者的初始人数\n",
    "S_0 = N - I_0 - E_0 - R_0 - T_0\n",
    "# T为传播时间\n",
    "T = 14"
   ]
  },
  {
   "cell_type": "markdown",
   "metadata": {},
   "source": [
    "# 第四阶段"
   ]
  },
  {
   "cell_type": "code",
   "execution_count": 123,
   "metadata": {},
   "outputs": [],
   "source": [
    "# N为人群总数\n",
    "N =11000000\n",
    "# β为传染率系数\n",
    "beta = 0.0176\n",
    "# gamma为恢复率系数\n",
    "gamma = 0.1\n",
    "#δ为受到治疗系数\n",
    "δ = 0.333\n",
    "# Te为疾病潜伏期\n",
    "Te = 5\n",
    "# I_0为感染未住院的初始人数\n",
    "I_0 = 18710\n",
    "# E_0为潜伏者的初始人数\n",
    "E_0 = 20614\n",
    "# R_0为治愈者的初始人数\n",
    "R_0 = 1389\n",
    "#T_0为治疗中的初始人数\n",
    "T_0 = 10331\n",
    "# S_0为易感者的初始人数\n",
    "S_0 = N - I_0 - E_0 - R_0 - T_0\n",
    "# T为传播时间\n",
    "T = 14"
   ]
  },
  {
   "cell_type": "code",
   "execution_count": null,
   "metadata": {},
   "outputs": [],
   "source": []
  }
 ],
 "metadata": {
  "kernelspec": {
   "display_name": "Python 3",
   "language": "python",
   "name": "python3"
  },
  "language_info": {
   "codemirror_mode": {
    "name": "ipython",
    "version": 3
   },
   "file_extension": ".py",
   "mimetype": "text/x-python",
   "name": "python",
   "nbconvert_exporter": "python",
   "pygments_lexer": "ipython3",
   "version": "3.7.3"
  }
 },
 "nbformat": 4,
 "nbformat_minor": 2
}
